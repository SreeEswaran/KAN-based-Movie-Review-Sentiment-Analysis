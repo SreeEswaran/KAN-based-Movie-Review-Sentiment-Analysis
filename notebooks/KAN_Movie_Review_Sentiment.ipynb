{
 "cells": [
  {
   "cell_type": "code",
   "execution_count": 1,
   "metadata": {},
   "outputs": [],
   "source": [
    "import os\n",
    "import tarfile\n",
    "import urllib.request\n",
    "import numpy as np\n",
    "import networkx as nx\n",
    "from sklearn.model_selection import train_test_split\n",
    "from tensorflow.keras.preprocessing.text import Tokenizer\n",
    "from tensorflow.keras.preprocessing.sequence import pad_sequences\n",
    "from tensorflow.keras.layers import Input, Embedding, LSTM, Bidirectional, Dense, Dropout, Concatenate\n",
    "from tensorflow.keras.models import Model\n",
    "import matplotlib.pyplot as plt"
   ]
  },
  {
   "cell_type": "code",
   "execution_count": 2,
   "metadata": {},
   "outputs": [],
   "source": [
    "# Download and extract IMDb dataset\n",
    "def download_and_extract_imdb_dataset():\n",
    "    url = \"https://ai.stanford.edu/~amaas/data/sentiment/aclImdb_v1.tar.gz\"\n",
    "    data_dir = \"data/imdb_reviews\"\n",
    "    if not os.path.exists(data_dir):\n",
    "        os.makedirs(data_dir)\n",
    "\n",
    "    file_path = os.path.join(data_dir, \"aclImdb_v1.tar.gz\")\n",
    "    \n",
    "    if not os.path.exists(file_path):\n",
    "        print(\"Downloading IMDb dataset...\")\n",
    "        urllib.request.urlretrieve(url, file_path)\n",
    "    \n",
    "    print(\"Extracting IMDb dataset...\")\n",
    "    with tarfile.open(file_path, \"r:gz\") as tar:\n",
    "        tar.extractall(path=data_dir)\n",
    "    print(\"Dataset ready.\")\n",
    "\n",
    "download_and_extract_imdb_dataset()"
   ]
  },
  {
   "cell_type": "code",
   "execution_count": 3,
   "metadata": {},
   "outputs": [],
   "source": [
    "# Load data\n",
    "def load_data(data_dir=\"data/imdb_reviews/aclImdb\"):\n",
    "    def load_texts_and_labels(dir_name):\n",
    "        texts, labels = [], []\n",
    "        for label_type in [\"pos\", \"neg\"]:\n",
    "            dir_path = os.path.join(data_dir, dir_name, label_type)\n",
    "            for fname in os.listdir(dir_path):\n",
    "                if fname.endswith(\".txt\"):\n",
    "                    with open(os.path.join(dir_path, fname), encoding=\"utf-8\") as f:\n",
    "                        texts.append(f.read())\n",
    "                    labels.append(1 if label_type == \"pos\" else 0)\n",
    "        return texts, labels\n",
    "\n",
    "    train_texts, train_labels = load_texts_and_labels(\"train\")\n",
    "    test_texts, test_labels = load_texts_and_labels(\"test\")\n",
    "\n",
    "    tokenizer = Tokenizer(num_words=10000)\n",
    "    tokenizer.fit_on_texts(train_texts)\n",
    "    X_train = tokenizer.texts_to_sequences(train_texts)\n",
    "    X_test = tokenizer.texts_to_sequences(test_texts)\n",
    "\n",
    "    max_length = 500\n",
    "    X_train = pad_sequences(X_train, maxlen=max_length)\n",
    "    X_test = pad_sequences(X_test, maxlen=max_length)\n",
    "    \n",
    "    y_train = np.array(train_labels)\n",
    "    y_test = np.array(test_labels)\n",
    "\n",
    "    word_index = tokenizer.word_index\n",
    "\n",
    "    return X_train, X_test, y_train, y_test, word_index, max_length\n",
    "\n",
    "X_train, X_test, y_train, y_test, word_index, max_length = load_data()"
   ]
  },
  {
   "cell_type": "code",
   "execution_count": 4,
   "metadata": {},
   "outputs": [],
   "source": [
    "# Create knowledge graph\n",
    "def create_knowledge_graph():\n",
    "    knowledge_graph = nx.Graph()\n",
    "    knowledge_graph.add_edge(\"good\", \"positive\")\n",
    "    knowledge_graph.add_edge(\"excellent\", \"positive\")\n",
    "    knowledge_graph.add_edge(\"bad\", \"negative\")\n",
    "    knowledge_graph.add_edge(\"terrible\", \"negative\")\n",
    "    knowledge_graph.add_edge(\"great\", \"positive\")\n",
    "    knowledge_graph.add_edge(\"poor\", \"negative\")\n",
    "    knowledge_graph.add_edge(\"fantastic\", \"positive\")\n",
    "    knowledge_graph.add_edge(\"horrible\", \"negative\")\n",
    "    return knowledge_graph\n",
    "\n",
    "knowledge_graph = create_knowledge_graph()"
   ]
  },
  {
   "cell_type": "code",
   "execution_count": 5,
   "metadata": {},
   "outputs": [],
   "source": [
    "# Get related nodes\n",
    "def get_related_nodes(graph, word):\n",
    "    if word in graph:\n",
    "        return list(graph.neighbors(word))\n",
    "    return []\n",
    "\n",
    "# Get knowledge embedding\n",
    "def get_knowledge_embedding(word_index, graph, embedding_dim):\n",
    "    embedding_matrix = np.zeros((len(word_index) + 1, embedding_dim))\n",
    "    for word, i in word_index.items():\n",
    "        related_nodes = get_related_nodes(graph, word)\n",
    "        if related_nodes:\n",
    "            related_embeddings = [np.random.rand(embedding_dim) for _ in related_nodes]\n",
    "            embedding_matrix[i] = np.mean(related_embeddings, axis=0)\n",
    "        else:\n",
    "            embedding_matrix[i] = np.random.rand(embedding_dim)\n",
    "    return embedding_matrix"
   ]
  },
  {
   "cell_type": "code",
   "execution_count": 6,
   "metadata": {},
   "outputs": [],
   "source": [
    "# Build KAN model\n",
    "def build_kan_model(max_length, word_index, knowledge_graph, embedding_dim=50):\n",
    "    text_input = Input(shape=(max_length,), name='text_input')\n",
    "    embedding_layer = Embedding(input_dim=len(word_index) + 1, output_dim=embedding_dim, input_length=max_length)(text_input)\n",
    "    lstm_layer = Bidirectional(LSTM(64, return_sequences=True))(embedding_layer)\n",
    "    lstm_layer = Dropout(0.5)(lstm_layer)\n",
    "    lstm_layer = Bidirectional(LSTM(64))(lstm_layer)\n",
    "    lstm_layer = Dropout(0.5)(lstm_layer)\n",
    "\n",
    "    knowledge_embedding_matrix = get_knowledge_embedding(word_index, knowledge_graph, embedding_dim)\n",
    "    knowledge_embedding_layer = Embedding(input_dim=len(word_index) + 1, output_dim=embedding_dim, weights=[knowledge_embedding_matrix], input_length=max_length, trainable=False)(text_input)\n",
    "\n",
    "    concatenated = Concatenate()([lstm_layer, knowledge_embedding_layer])\n",
    "    dense_layer = Dense(64, activation='relu')(concatenated)\n",
    "    dense_layer = Dropout(0.5)(dense_layer)\n",
    "    output_layer = Dense(1, activation='sigmoid')(dense_layer)\n",
    "\n",
    "    model = Model(inputs=text_input, outputs=output_layer)\n",
    "    model.compile(optimizer='adam', loss='binary_crossentropy', metrics=['accuracy'])\n",
    "    return model"
   ]
  },
  {
   "cell_type": "code",
   "execution_count": 7,
   "metadata": {},
   "outputs": [],
   "source": [
    "# Build and train model\n",
    "model = build_kan_model(max_length, word_index, knowledge_graph)\n",
    "history = model.fit(X_train, y_train, epochs=10, batch_size=32, validation_data=(X_test, y_test))"
   ]
  },
  {
   "cell_type": "code",
   "execution_count": 8,
   "metadata": {},
   "outputs": [],
   "source": [
    "# Save model\n",
    "model.save('../models/kan_movie_review_model.h5')"
   ]
  },
  {
   "cell_type": "code",
   "execution_count": 9,
   "metadata": {},
   "outputs": [],
   "source": [
    "# Evaluate model\n",
    "loss, accuracy = model.evaluate(X_test, y_test)\n",
    "print(f\"Model accuracy: {accuracy*100:.2f}%\")"
   ]
  }
 ],
 "metadata": {
  "kernelspec": {
   "display_name": "Python 3",
   "language": "python",
   "name": "python3"
  },
  "language_info": {
   "codemirror_mode": {
    "name": "ipython",
    "version": 3
   },
   "file_extension": ".py",
   "mimetype": "text/x-python",
   "name": "python",
   "nbconvert_exporter": "python",
   "pygments_lexer": "ipython3",
   "version": "3.8.5"
  }
 },
 "nbformat": 4,
 "nbformat_minor": 5
}
